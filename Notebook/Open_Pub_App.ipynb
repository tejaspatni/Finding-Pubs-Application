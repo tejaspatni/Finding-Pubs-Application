{
  "nbformat": 4,
  "nbformat_minor": 0,
  "metadata": {
    "colab": {
      "provenance": []
    },
    "kernelspec": {
      "name": "python3",
      "display_name": "Python 3"
    },
    "language_info": {
      "name": "python"
    }
  },
  "cells": [
    {
      "cell_type": "code",
      "execution_count": 1,
      "metadata": {
        "id": "hCJBXjy_ht5d"
      },
      "outputs": [],
      "source": [
        "import numpy as np\n",
        "import pandas as pd\n",
        "import matplotlib.pyplot as plt\n",
        "import seaborn as sns\n",
        "import folium"
      ]
    },
    {
      "cell_type": "code",
      "source": [
        "df = pd.read_csv('/content/open_pubs.csv',names=['id','name','address','postcode','easting','northing','latitude','longitude','local_authority'])\n",
        "df.head()"
      ],
      "metadata": {
        "colab": {
          "base_uri": "https://localhost:8080/",
          "height": 206
        },
        "id": "9qiKVR8PiTK5",
        "outputId": "cbf1af41-49bc-4d3f-a491-a901306e089f"
      },
      "execution_count": 3,
      "outputs": [
        {
          "output_type": "execute_result",
          "data": {
            "text/plain": [
              "   id                name                                            address  \\\n",
              "0  22          Anchor Inn        Upper Street, Stratford St Mary, COLCHESTER   \n",
              "1  36  Ark Bar Restaurant  Ark Bar And Restaurant, Cattawade Street, Bran...   \n",
              "2  74           Black Boy  The Lady Elizabeth, 7 Market Hill, SUDBURY, Su...   \n",
              "3  75         Black Horse        Lower Street, Stratford St Mary, COLCHESTER   \n",
              "4  76          Black Lion                      Lion Road, Glemsford, SUDBURY   \n",
              "\n",
              "   postcode  easting  northing   latitude longitude local_authority  \n",
              "0   CO7 6LW   604749    234404  51.970379  0.979340         Babergh  \n",
              "1  CO11 1RH   610194    233329  51.958698  1.057832         Babergh  \n",
              "2  CO10 2EA   587334    241316  52.038595  0.729915         Babergh  \n",
              "3   CO7 6JS   622675  -5527598         \\N        \\N         Babergh  \n",
              "4  CO10 7RF   622675  -5527598         \\N        \\N         Babergh  "
            ],
            "text/html": [
              "\n",
              "  <div id=\"df-b11224d7-da38-42d6-9298-172ed26502a9\">\n",
              "    <div class=\"colab-df-container\">\n",
              "      <div>\n",
              "<style scoped>\n",
              "    .dataframe tbody tr th:only-of-type {\n",
              "        vertical-align: middle;\n",
              "    }\n",
              "\n",
              "    .dataframe tbody tr th {\n",
              "        vertical-align: top;\n",
              "    }\n",
              "\n",
              "    .dataframe thead th {\n",
              "        text-align: right;\n",
              "    }\n",
              "</style>\n",
              "<table border=\"1\" class=\"dataframe\">\n",
              "  <thead>\n",
              "    <tr style=\"text-align: right;\">\n",
              "      <th></th>\n",
              "      <th>id</th>\n",
              "      <th>name</th>\n",
              "      <th>address</th>\n",
              "      <th>postcode</th>\n",
              "      <th>easting</th>\n",
              "      <th>northing</th>\n",
              "      <th>latitude</th>\n",
              "      <th>longitude</th>\n",
              "      <th>local_authority</th>\n",
              "    </tr>\n",
              "  </thead>\n",
              "  <tbody>\n",
              "    <tr>\n",
              "      <th>0</th>\n",
              "      <td>22</td>\n",
              "      <td>Anchor Inn</td>\n",
              "      <td>Upper Street, Stratford St Mary, COLCHESTER</td>\n",
              "      <td>CO7 6LW</td>\n",
              "      <td>604749</td>\n",
              "      <td>234404</td>\n",
              "      <td>51.970379</td>\n",
              "      <td>0.979340</td>\n",
              "      <td>Babergh</td>\n",
              "    </tr>\n",
              "    <tr>\n",
              "      <th>1</th>\n",
              "      <td>36</td>\n",
              "      <td>Ark Bar Restaurant</td>\n",
              "      <td>Ark Bar And Restaurant, Cattawade Street, Bran...</td>\n",
              "      <td>CO11 1RH</td>\n",
              "      <td>610194</td>\n",
              "      <td>233329</td>\n",
              "      <td>51.958698</td>\n",
              "      <td>1.057832</td>\n",
              "      <td>Babergh</td>\n",
              "    </tr>\n",
              "    <tr>\n",
              "      <th>2</th>\n",
              "      <td>74</td>\n",
              "      <td>Black Boy</td>\n",
              "      <td>The Lady Elizabeth, 7 Market Hill, SUDBURY, Su...</td>\n",
              "      <td>CO10 2EA</td>\n",
              "      <td>587334</td>\n",
              "      <td>241316</td>\n",
              "      <td>52.038595</td>\n",
              "      <td>0.729915</td>\n",
              "      <td>Babergh</td>\n",
              "    </tr>\n",
              "    <tr>\n",
              "      <th>3</th>\n",
              "      <td>75</td>\n",
              "      <td>Black Horse</td>\n",
              "      <td>Lower Street, Stratford St Mary, COLCHESTER</td>\n",
              "      <td>CO7 6JS</td>\n",
              "      <td>622675</td>\n",
              "      <td>-5527598</td>\n",
              "      <td>\\N</td>\n",
              "      <td>\\N</td>\n",
              "      <td>Babergh</td>\n",
              "    </tr>\n",
              "    <tr>\n",
              "      <th>4</th>\n",
              "      <td>76</td>\n",
              "      <td>Black Lion</td>\n",
              "      <td>Lion Road, Glemsford, SUDBURY</td>\n",
              "      <td>CO10 7RF</td>\n",
              "      <td>622675</td>\n",
              "      <td>-5527598</td>\n",
              "      <td>\\N</td>\n",
              "      <td>\\N</td>\n",
              "      <td>Babergh</td>\n",
              "    </tr>\n",
              "  </tbody>\n",
              "</table>\n",
              "</div>\n",
              "      <button class=\"colab-df-convert\" onclick=\"convertToInteractive('df-b11224d7-da38-42d6-9298-172ed26502a9')\"\n",
              "              title=\"Convert this dataframe to an interactive table.\"\n",
              "              style=\"display:none;\">\n",
              "        \n",
              "  <svg xmlns=\"http://www.w3.org/2000/svg\" height=\"24px\"viewBox=\"0 0 24 24\"\n",
              "       width=\"24px\">\n",
              "    <path d=\"M0 0h24v24H0V0z\" fill=\"none\"/>\n",
              "    <path d=\"M18.56 5.44l.94 2.06.94-2.06 2.06-.94-2.06-.94-.94-2.06-.94 2.06-2.06.94zm-11 1L8.5 8.5l.94-2.06 2.06-.94-2.06-.94L8.5 2.5l-.94 2.06-2.06.94zm10 10l.94 2.06.94-2.06 2.06-.94-2.06-.94-.94-2.06-.94 2.06-2.06.94z\"/><path d=\"M17.41 7.96l-1.37-1.37c-.4-.4-.92-.59-1.43-.59-.52 0-1.04.2-1.43.59L10.3 9.45l-7.72 7.72c-.78.78-.78 2.05 0 2.83L4 21.41c.39.39.9.59 1.41.59.51 0 1.02-.2 1.41-.59l7.78-7.78 2.81-2.81c.8-.78.8-2.07 0-2.86zM5.41 20L4 18.59l7.72-7.72 1.47 1.35L5.41 20z\"/>\n",
              "  </svg>\n",
              "      </button>\n",
              "      \n",
              "  <style>\n",
              "    .colab-df-container {\n",
              "      display:flex;\n",
              "      flex-wrap:wrap;\n",
              "      gap: 12px;\n",
              "    }\n",
              "\n",
              "    .colab-df-convert {\n",
              "      background-color: #E8F0FE;\n",
              "      border: none;\n",
              "      border-radius: 50%;\n",
              "      cursor: pointer;\n",
              "      display: none;\n",
              "      fill: #1967D2;\n",
              "      height: 32px;\n",
              "      padding: 0 0 0 0;\n",
              "      width: 32px;\n",
              "    }\n",
              "\n",
              "    .colab-df-convert:hover {\n",
              "      background-color: #E2EBFA;\n",
              "      box-shadow: 0px 1px 2px rgba(60, 64, 67, 0.3), 0px 1px 3px 1px rgba(60, 64, 67, 0.15);\n",
              "      fill: #174EA6;\n",
              "    }\n",
              "\n",
              "    [theme=dark] .colab-df-convert {\n",
              "      background-color: #3B4455;\n",
              "      fill: #D2E3FC;\n",
              "    }\n",
              "\n",
              "    [theme=dark] .colab-df-convert:hover {\n",
              "      background-color: #434B5C;\n",
              "      box-shadow: 0px 1px 3px 1px rgba(0, 0, 0, 0.15);\n",
              "      filter: drop-shadow(0px 1px 2px rgba(0, 0, 0, 0.3));\n",
              "      fill: #FFFFFF;\n",
              "    }\n",
              "  </style>\n",
              "\n",
              "      <script>\n",
              "        const buttonEl =\n",
              "          document.querySelector('#df-b11224d7-da38-42d6-9298-172ed26502a9 button.colab-df-convert');\n",
              "        buttonEl.style.display =\n",
              "          google.colab.kernel.accessAllowed ? 'block' : 'none';\n",
              "\n",
              "        async function convertToInteractive(key) {\n",
              "          const element = document.querySelector('#df-b11224d7-da38-42d6-9298-172ed26502a9');\n",
              "          const dataTable =\n",
              "            await google.colab.kernel.invokeFunction('convertToInteractive',\n",
              "                                                     [key], {});\n",
              "          if (!dataTable) return;\n",
              "\n",
              "          const docLinkHtml = 'Like what you see? Visit the ' +\n",
              "            '<a target=\"_blank\" href=https://colab.research.google.com/notebooks/data_table.ipynb>data table notebook</a>'\n",
              "            + ' to learn more about interactive tables.';\n",
              "          element.innerHTML = '';\n",
              "          dataTable['output_type'] = 'display_data';\n",
              "          await google.colab.output.renderOutput(dataTable, element);\n",
              "          const docLink = document.createElement('div');\n",
              "          docLink.innerHTML = docLinkHtml;\n",
              "          element.appendChild(docLink);\n",
              "        }\n",
              "      </script>\n",
              "    </div>\n",
              "  </div>\n",
              "  "
            ]
          },
          "metadata": {},
          "execution_count": 3
        }
      ]
    },
    {
      "cell_type": "code",
      "source": [
        "df.shape"
      ],
      "metadata": {
        "colab": {
          "base_uri": "https://localhost:8080/"
        },
        "id": "bQBMSMgviodc",
        "outputId": "96eacc8f-da68-4afa-e6ef-a6cae2d44ec1"
      },
      "execution_count": 4,
      "outputs": [
        {
          "output_type": "execute_result",
          "data": {
            "text/plain": [
              "(51331, 9)"
            ]
          },
          "metadata": {},
          "execution_count": 4
        }
      ]
    },
    {
      "cell_type": "code",
      "source": [
        "df.info()"
      ],
      "metadata": {
        "colab": {
          "base_uri": "https://localhost:8080/"
        },
        "id": "TCWBAY9fjIJ8",
        "outputId": "0b30280c-57d7-40fa-85b3-a5e584df8541"
      },
      "execution_count": 5,
      "outputs": [
        {
          "output_type": "stream",
          "name": "stdout",
          "text": [
            "<class 'pandas.core.frame.DataFrame'>\n",
            "RangeIndex: 51331 entries, 0 to 51330\n",
            "Data columns (total 9 columns):\n",
            " #   Column           Non-Null Count  Dtype \n",
            "---  ------           --------------  ----- \n",
            " 0   id               51331 non-null  int64 \n",
            " 1   name             51331 non-null  object\n",
            " 2   address          51331 non-null  object\n",
            " 3   postcode         51331 non-null  object\n",
            " 4   easting          51331 non-null  int64 \n",
            " 5   northing         51331 non-null  int64 \n",
            " 6   latitude         51331 non-null  object\n",
            " 7   longitude        51331 non-null  object\n",
            " 8   local_authority  51331 non-null  object\n",
            "dtypes: int64(3), object(6)\n",
            "memory usage: 3.5+ MB\n"
          ]
        }
      ]
    },
    {
      "cell_type": "code",
      "source": [
        "df.isnull().sum()"
      ],
      "metadata": {
        "colab": {
          "base_uri": "https://localhost:8080/"
        },
        "id": "83MDApFDjJWQ",
        "outputId": "9b7b386c-60f0-4bc5-b320-d6eb4451075f"
      },
      "execution_count": 6,
      "outputs": [
        {
          "output_type": "execute_result",
          "data": {
            "text/plain": [
              "id                 0\n",
              "name               0\n",
              "address            0\n",
              "postcode           0\n",
              "easting            0\n",
              "northing           0\n",
              "latitude           0\n",
              "longitude          0\n",
              "local_authority    0\n",
              "dtype: int64"
            ]
          },
          "metadata": {},
          "execution_count": 6
        }
      ]
    },
    {
      "cell_type": "code",
      "source": [
        "df.duplicated().sum()"
      ],
      "metadata": {
        "colab": {
          "base_uri": "https://localhost:8080/"
        },
        "id": "jo2ru8h_jNqA",
        "outputId": "d9fe0734-495b-4754-af1a-5de1b3a4eed4"
      },
      "execution_count": 7,
      "outputs": [
        {
          "output_type": "execute_result",
          "data": {
            "text/plain": [
              "0"
            ]
          },
          "metadata": {},
          "execution_count": 7
        }
      ]
    },
    {
      "cell_type": "code",
      "source": [
        "df.latitude.value_counts()"
      ],
      "metadata": {
        "colab": {
          "base_uri": "https://localhost:8080/"
        },
        "id": "lJQNNEGcjTqz",
        "outputId": "369850f7-a322-4478-9be4-40158502b81b"
      },
      "execution_count": 9,
      "outputs": [
        {
          "output_type": "execute_result",
          "data": {
            "text/plain": [
              "\\N           767\n",
              "51.310946     10\n",
              "52.896164     10\n",
              "53.178189      9\n",
              "55.318954      8\n",
              "            ... \n",
              "53.369771      1\n",
              "53.390799      1\n",
              "53.371238      1\n",
              "53.361078      1\n",
              "53.076638      1\n",
              "Name: latitude, Length: 46810, dtype: int64"
            ]
          },
          "metadata": {},
          "execution_count": 9
        }
      ]
    },
    {
      "cell_type": "code",
      "source": [
        "df.replace('\\\\N',np.nan,inplace=True)"
      ],
      "metadata": {
        "id": "0Ejc1BeJjYvW"
      },
      "execution_count": 11,
      "outputs": []
    },
    {
      "cell_type": "code",
      "source": [
        "df.isnull().sum()"
      ],
      "metadata": {
        "colab": {
          "base_uri": "https://localhost:8080/"
        },
        "id": "b_8QCnffjlux",
        "outputId": "7ee92d17-d173-4dcd-e2d8-15557b492d6e"
      },
      "execution_count": 12,
      "outputs": [
        {
          "output_type": "execute_result",
          "data": {
            "text/plain": [
              "id                   0\n",
              "name                 0\n",
              "address              0\n",
              "postcode             0\n",
              "easting              0\n",
              "northing             0\n",
              "latitude           767\n",
              "longitude          767\n",
              "local_authority      0\n",
              "dtype: int64"
            ]
          },
          "metadata": {},
          "execution_count": 12
        }
      ]
    },
    {
      "cell_type": "code",
      "source": [
        "# Drop all\n",
        "\n",
        "df = df.dropna()"
      ],
      "metadata": {
        "id": "nw2mV0qfj0O_"
      },
      "execution_count": 13,
      "outputs": []
    },
    {
      "cell_type": "code",
      "source": [
        "df.isnull().sum()"
      ],
      "metadata": {
        "colab": {
          "base_uri": "https://localhost:8080/"
        },
        "id": "FhU_JVX3j5zk",
        "outputId": "c624bd2c-e50a-445b-9c73-fc092e71d777"
      },
      "execution_count": 14,
      "outputs": [
        {
          "output_type": "execute_result",
          "data": {
            "text/plain": [
              "id                 0\n",
              "name               0\n",
              "address            0\n",
              "postcode           0\n",
              "easting            0\n",
              "northing           0\n",
              "latitude           0\n",
              "longitude          0\n",
              "local_authority    0\n",
              "dtype: int64"
            ]
          },
          "metadata": {},
          "execution_count": 14
        }
      ]
    },
    {
      "cell_type": "code",
      "source": [
        "df.shape"
      ],
      "metadata": {
        "colab": {
          "base_uri": "https://localhost:8080/"
        },
        "id": "d7PbA9iIj7Su",
        "outputId": "21662567-c243-42fa-f298-41621b2e1e4a"
      },
      "execution_count": 15,
      "outputs": [
        {
          "output_type": "execute_result",
          "data": {
            "text/plain": [
              "(50564, 9)"
            ]
          },
          "metadata": {},
          "execution_count": 15
        }
      ]
    },
    {
      "cell_type": "code",
      "source": [
        "df.latitude = df.latitude.astype(float)\n",
        "df.longitude = df.longitude.astype(float)"
      ],
      "metadata": {
        "colab": {
          "base_uri": "https://localhost:8080/"
        },
        "id": "2RZyGum1j9G2",
        "outputId": "100a4b2c-6fb1-4e3a-8ada-b8f4082d1db4"
      },
      "execution_count": 16,
      "outputs": [
        {
          "output_type": "stream",
          "name": "stderr",
          "text": [
            "<ipython-input-16-61d615964de8>:1: SettingWithCopyWarning: \n",
            "A value is trying to be set on a copy of a slice from a DataFrame.\n",
            "Try using .loc[row_indexer,col_indexer] = value instead\n",
            "\n",
            "See the caveats in the documentation: https://pandas.pydata.org/pandas-docs/stable/user_guide/indexing.html#returning-a-view-versus-a-copy\n",
            "  df.latitude = df.latitude.astype(float)\n",
            "<ipython-input-16-61d615964de8>:2: SettingWithCopyWarning: \n",
            "A value is trying to be set on a copy of a slice from a DataFrame.\n",
            "Try using .loc[row_indexer,col_indexer] = value instead\n",
            "\n",
            "See the caveats in the documentation: https://pandas.pydata.org/pandas-docs/stable/user_guide/indexing.html#returning-a-view-versus-a-copy\n",
            "  df.longitude = df.longitude.astype(float)\n"
          ]
        }
      ]
    },
    {
      "cell_type": "code",
      "source": [
        "df.info()"
      ],
      "metadata": {
        "colab": {
          "base_uri": "https://localhost:8080/"
        },
        "id": "3YYl6xLwkILh",
        "outputId": "069bf335-d14a-4522-8b58-f0b27fe93256"
      },
      "execution_count": 17,
      "outputs": [
        {
          "output_type": "stream",
          "name": "stdout",
          "text": [
            "<class 'pandas.core.frame.DataFrame'>\n",
            "Int64Index: 50564 entries, 0 to 51330\n",
            "Data columns (total 9 columns):\n",
            " #   Column           Non-Null Count  Dtype  \n",
            "---  ------           --------------  -----  \n",
            " 0   id               50564 non-null  int64  \n",
            " 1   name             50564 non-null  object \n",
            " 2   address          50564 non-null  object \n",
            " 3   postcode         50564 non-null  object \n",
            " 4   easting          50564 non-null  int64  \n",
            " 5   northing         50564 non-null  int64  \n",
            " 6   latitude         50564 non-null  float64\n",
            " 7   longitude        50564 non-null  float64\n",
            " 8   local_authority  50564 non-null  object \n",
            "dtypes: float64(2), int64(3), object(4)\n",
            "memory usage: 3.9+ MB\n"
          ]
        }
      ]
    },
    {
      "cell_type": "code",
      "source": [
        "df.local_authority.value_counts().head(10)"
      ],
      "metadata": {
        "colab": {
          "base_uri": "https://localhost:8080/"
        },
        "id": "MXdLKzXFkMQX",
        "outputId": "1273057a-8466-43a7-96ca-d3101ad9bdb1"
      },
      "execution_count": 19,
      "outputs": [
        {
          "output_type": "execute_result",
          "data": {
            "text/plain": [
              "County Durham        680\n",
              "Leeds                611\n",
              "Cornwall             557\n",
              "Wiltshire            544\n",
              "Kirklees             524\n",
              "City of Edinburgh    506\n",
              "Birmingham           494\n",
              "Buckinghamshire      485\n",
              "Bradford             478\n",
              "Northumberland       446\n",
              "Name: local_authority, dtype: int64"
            ]
          },
          "metadata": {},
          "execution_count": 19
        }
      ]
    },
    {
      "cell_type": "code",
      "source": [
        "colors = plt.cm.Set3(range(10))\n",
        "df.local_authority.value_counts().head(10).sort_values().plot(kind='barh', figsize=(9,6), title=\"Top 10 Locations with highest pubs\")\n",
        "plt.savefig('pubs_by_location.png', dpi=300, bbox_inches='tight')\n",
        "plt.show()"
      ],
      "metadata": {
        "colab": {
          "base_uri": "https://localhost:8080/",
          "height": 545
        },
        "id": "ST0bq9zQkRG9",
        "outputId": "76d06e5c-12f8-4a58-ffc8-c98ddad34519"
      },
      "execution_count": 21,
      "outputs": [
        {
          "output_type": "display_data",
          "data": {
            "text/plain": [
              "<Figure size 900x600 with 1 Axes>"
            ],
            "image/png": "[encoded data removed]"
          },
          "metadata": {}
        }
      ]
    },
    {
      "cell_type": "markdown",
      "source": [
        "### ***Visualize Location***"
      ],
      "metadata": {
        "id": "lbsGWYTpksDw"
      }
    },
    {
      "cell_type": "code",
      "source": [
        "# Create a map object with a starting location and zoom level\n",
        "\n",
        "map = folium.Map(location=[51.970379, 0.979340], zoom_start=12)\n",
        "\n",
        "# Add a marker to the map\n",
        "\n",
        "folium.Marker(location=[51.970379, 0.979340], tooltip='Open Pub' , popup='Anchor Inn').add_to(map)\n",
        "\n",
        "# Anchor Inn\n",
        "\n",
        "# Display the map\n",
        "map"
      ],
      "metadata": {
        "colab": {
          "base_uri": "https://localhost:8080/",
          "height": 763
        },
        "id": "hJs1axPVkb63",
        "outputId": "c60880c7-b1f4-46ce-9715-19bcb3a8b3c1"
      },
      "execution_count": 22,
      "outputs": [
        {
          "output_type": "execute_result",
          "data": {
            "text/plain": [
              "<folium.folium.Map at 0x7fe2fe048f10>"
            ],
            "text/html": [
              "<div style=\"width:100%;\"><div style=\"position:relative;width:100%;height:0;padding-bottom:60%;\"><span style=\"color:#565656\">Make this Notebook Trusted to load map: File -> Trust Notebook</span><iframe srcdoc=\"&lt;!DOCTYPE html&gt;\n",
              "&lt;html&gt;\n",
              "&lt;head&gt;\n",
              "    \n",
              "    &lt;meta http-equiv=&quot;content-type&quot; content=&quot;text/html; charset=UTF-8&quot; /&gt;\n",
              "    \n",
              "        &lt;script&gt;\n",
              "            L_NO_TOUCH = false;\n",
              "            L_DISABLE_3D = false;\n",
              "        &lt;/script&gt;\n",
              "    \n",
              "    &lt;style&gt;html, body {width: 100%;height: 100%;margin: 0;padding: 0;}&lt;/style&gt;\n",
              "    &lt;style&gt;#map {position:absolute;top:0;bottom:0;right:0;left:0;}&lt;/style&gt;\n",
              "    &lt;script src=&quot;https://cdn.jsdelivr.net/npm/leaflet@1.9.3/dist/leaflet.js&quot;&gt;&lt;/script&gt;\n",
              "    &lt;script src=&quot;https://code.jquery.com/jquery-1.12.4.min.js&quot;&gt;&lt;/script&gt;\n",
              "    &lt;script src=&quot;https://cdn.jsdelivr.net/npm/bootstrap@5.2.2/dist/js/bootstrap.bundle.min.js&quot;&gt;&lt;/script&gt;\n",
              "    &lt;script src=&quot;https://cdnjs.cloudflare.com/ajax/libs/Leaflet.awesome-markers/2.0.2/leaflet.awesome-markers.js&quot;&gt;&lt;/script&gt;\n",
              "    &lt;link rel=&quot;stylesheet&quot; href=&quot;https://cdn.jsdelivr.net/npm/leaflet@1.9.3/dist/leaflet.css&quot;/&gt;\n",
              "    &lt;link rel=&quot;stylesheet&quot; href=&quot;https://cdn.jsdelivr.net/npm/bootstrap@5.2.2/dist/css/bootstrap.min.css&quot;/&gt;\n",
              "    &lt;link rel=&quot;stylesheet&quot; href=&quot;https://netdna.bootstrapcdn.com/bootstrap/3.0.0/css/bootstrap.min.css&quot;/&gt;\n",
              "    &lt;link rel=&quot;stylesheet&quot; href=&quot;https://cdn.jsdelivr.net/npm/@fortawesome/fontawesome-free@6.2.0/css/all.min.css&quot;/&gt;\n",
              "    &lt;link rel=&quot;stylesheet&quot; href=&quot;https://cdnjs.cloudflare.com/ajax/libs/Leaflet.awesome-markers/2.0.2/leaflet.awesome-markers.css&quot;/&gt;\n",
              "    &lt;link rel=&quot;stylesheet&quot; href=&quot;https://cdn.jsdelivr.net/gh/python-visualization/folium/folium/templates/leaflet.awesome.rotate.min.css&quot;/&gt;\n",
              "    \n",
              "            &lt;meta name=&quot;viewport&quot; content=&quot;width=device-width,\n",
              "                initial-scale=1.0, maximum-scale=1.0, user-scalable=no&quot; /&gt;\n",
              "            &lt;style&gt;\n",
              "                #map_d46d9c164c290b6ef1cc9626f5cff14f {\n",
              "                    position: relative;\n",
              "                    width: 100.0%;\n",
              "                    height: 100.0%;\n",
              "                    left: 0.0%;\n",
              "                    top: 0.0%;\n",
              "                }\n",
              "                .leaflet-container { font-size: 1rem; }\n",
              "            &lt;/style&gt;\n",
              "        \n",
              "&lt;/head&gt;\n",
              "&lt;body&gt;\n",
              "    \n",
              "    \n",
              "            &lt;div class=&quot;folium-map&quot; id=&quot;map_d46d9c164c290b6ef1cc9626f5cff14f&quot; &gt;&lt;/div&gt;\n",
              "        \n",
              "&lt;/body&gt;\n",
              "&lt;script&gt;\n",
              "    \n",
              "    \n",
              "            var map_d46d9c164c290b6ef1cc9626f5cff14f = L.map(\n",
              "                &quot;map_d46d9c164c290b6ef1cc9626f5cff14f&quot;,\n",
              "                {\n",
              "                    center: [51.970379, 0.97934],\n",
              "                    crs: L.CRS.EPSG3857,\n",
              "                    zoom: 12,\n",
              "                    zoomControl: true,\n",
              "                    preferCanvas: false,\n",
              "                }\n",
              "            );\n",
              "\n",
              "            \n",
              "\n",
              "        \n",
              "    \n",
              "            var tile_layer_33fc5a6713d2365f2dbfed36ca7845d3 = L.tileLayer(\n",
              "                &quot;https://{s}.tile.openstreetmap.org/{z}/{x}/{y}.png&quot;,\n",
              "                {&quot;attribution&quot;: &quot;Data by \\u0026copy; \\u003ca target=\\&quot;_blank\\&quot; href=\\&quot;http://openstreetmap.org\\&quot;\\u003eOpenStreetMap\\u003c/a\\u003e, under \\u003ca target=\\&quot;_blank\\&quot; href=\\&quot;http://www.openstreetmap.org/copyright\\&quot;\\u003eODbL\\u003c/a\\u003e.&quot;, &quot;detectRetina&quot;: false, &quot;maxNativeZoom&quot;: 18, &quot;maxZoom&quot;: 18, &quot;minZoom&quot;: 0, &quot;noWrap&quot;: false, &quot;opacity&quot;: 1, &quot;subdomains&quot;: &quot;abc&quot;, &quot;tms&quot;: false}\n",
              "            ).addTo(map_d46d9c164c290b6ef1cc9626f5cff14f);\n",
              "        \n",
              "    \n",
              "            var marker_00267e369613cd16fc660a1de1259c89 = L.marker(\n",
              "                [51.970379, 0.97934],\n",
              "                {}\n",
              "            ).addTo(map_d46d9c164c290b6ef1cc9626f5cff14f);\n",
              "        \n",
              "    \n",
              "        var popup_f33064843b7413514794a539d1666858 = L.popup({&quot;maxWidth&quot;: &quot;100%&quot;});\n",
              "\n",
              "        \n",
              "            \n",
              "                var html_f989f51897bf703ae65cd0609ab4b389 = $(`&lt;div id=&quot;html_f989f51897bf703ae65cd0609ab4b389&quot; style=&quot;width: 100.0%; height: 100.0%;&quot;&gt;Anchor Inn&lt;/div&gt;`)[0];\n",
              "                popup_f33064843b7413514794a539d1666858.setContent(html_f989f51897bf703ae65cd0609ab4b389);\n",
              "            \n",
              "        \n",
              "\n",
              "        marker_00267e369613cd16fc660a1de1259c89.bindPopup(popup_f33064843b7413514794a539d1666858)\n",
              "        ;\n",
              "\n",
              "        \n",
              "    \n",
              "    \n",
              "            marker_00267e369613cd16fc660a1de1259c89.bindTooltip(\n",
              "                `&lt;div&gt;\n",
              "                     Open Pub\n",
              "                 &lt;/div&gt;`,\n",
              "                {&quot;sticky&quot;: true}\n",
              "            );\n",
              "        \n",
              "&lt;/script&gt;\n",
              "&lt;/html&gt;\" style=\"position:absolute;width:100%;height:100%;left:0;top:0;border:none !important;\" allowfullscreen webkitallowfullscreen mozallowfullscreen></iframe></div></div>"
            ]
          },
          "metadata": {},
          "execution_count": 22
        }
      ]
    },
    {
      "cell_type": "code",
      "source": [
        "df.to_csv(\"cleaned.csv\", index=False)"
      ],
      "metadata": {
        "id": "ptL6jip4k1dX"
      },
      "execution_count": 23,
      "outputs": []
    },
    {
      "cell_type": "code",
      "source": [
        "df1 = pd.read_csv('cleaned.csv')"
      ],
      "metadata": {
        "id": "3ENSsGcGlHeh"
      },
      "execution_count": 24,
      "outputs": []
    },
    {
      "cell_type": "code",
      "source": [
        "\n",
        "df1.head()"
      ],
      "metadata": {
        "colab": {
          "base_uri": "https://localhost:8080/",
          "height": 206
        },
        "id": "IqPX9iKKlJt5",
        "outputId": "90508277-0fee-410f-8ddd-55eac8857515"
      },
      "execution_count": 25,
      "outputs": [
        {
          "output_type": "execute_result",
          "data": {
            "text/plain": [
              "    id                name                                            address  \\\n",
              "0   22          Anchor Inn        Upper Street, Stratford St Mary, COLCHESTER   \n",
              "1   36  Ark Bar Restaurant  Ark Bar And Restaurant, Cattawade Street, Bran...   \n",
              "2   74           Black Boy  The Lady Elizabeth, 7 Market Hill, SUDBURY, Su...   \n",
              "3   97        Brewers Arms  The Brewers Arms, Bower House Tye, Polstead, C...   \n",
              "4  102        Bristol Arms                     Bristol Hill, Shotley, IPSWICH   \n",
              "\n",
              "   postcode  easting  northing   latitude  longitude local_authority  \n",
              "0   CO7 6LW   604749    234404  51.970379   0.979340         Babergh  \n",
              "1  CO11 1RH   610194    233329  51.958698   1.057832         Babergh  \n",
              "2  CO10 2EA   587334    241316  52.038595   0.729915         Babergh  \n",
              "3   CO6 5BZ   598743    240655  52.028694   0.895650         Babergh  \n",
              "4   IP9 1PU   624624    233550  51.955042   1.267642         Babergh  "
            ],
            "text/html": [
              "\n",
              "  <div id=\"df-e5b5d5ae-0e72-4c2c-8b70-baf292091ff5\">\n",
              "    <div class=\"colab-df-container\">\n",
              "      <div>\n",
              "<style scoped>\n",
              "    .dataframe tbody tr th:only-of-type {\n",
              "        vertical-align: middle;\n",
              "    }\n",
              "\n",
              "    .dataframe tbody tr th {\n",
              "        vertical-align: top;\n",
              "    }\n",
              "\n",
              "    .dataframe thead th {\n",
              "        text-align: right;\n",
              "    }\n",
              "</style>\n",
              "<table border=\"1\" class=\"dataframe\">\n",
              "  <thead>\n",
              "    <tr style=\"text-align: right;\">\n",
              "      <th></th>\n",
              "      <th>id</th>\n",
              "      <th>name</th>\n",
              "      <th>address</th>\n",
              "      <th>postcode</th>\n",
              "      <th>easting</th>\n",
              "      <th>northing</th>\n",
              "      <th>latitude</th>\n",
              "      <th>longitude</th>\n",
              "      <th>local_authority</th>\n",
              "    </tr>\n",
              "  </thead>\n",
              "  <tbody>\n",
              "    <tr>\n",
              "      <th>0</th>\n",
              "      <td>22</td>\n",
              "      <td>Anchor Inn</td>\n",
              "      <td>Upper Street, Stratford St Mary, COLCHESTER</td>\n",
              "      <td>CO7 6LW</td>\n",
              "      <td>604749</td>\n",
              "      <td>234404</td>\n",
              "      <td>51.970379</td>\n",
              "      <td>0.979340</td>\n",
              "      <td>Babergh</td>\n",
              "    </tr>\n",
              "    <tr>\n",
              "      <th>1</th>\n",
              "      <td>36</td>\n",
              "      <td>Ark Bar Restaurant</td>\n",
              "      <td>Ark Bar And Restaurant, Cattawade Street, Bran...</td>\n",
              "      <td>CO11 1RH</td>\n",
              "      <td>610194</td>\n",
              "      <td>233329</td>\n",
              "      <td>51.958698</td>\n",
              "      <td>1.057832</td>\n",
              "      <td>Babergh</td>\n",
              "    </tr>\n",
              "    <tr>\n",
              "      <th>2</th>\n",
              "      <td>74</td>\n",
              "      <td>Black Boy</td>\n",
              "      <td>The Lady Elizabeth, 7 Market Hill, SUDBURY, Su...</td>\n",
              "      <td>CO10 2EA</td>\n",
              "      <td>587334</td>\n",
              "      <td>241316</td>\n",
              "      <td>52.038595</td>\n",
              "      <td>0.729915</td>\n",
              "      <td>Babergh</td>\n",
              "    </tr>\n",
              "    <tr>\n",
              "      <th>3</th>\n",
              "      <td>97</td>\n",
              "      <td>Brewers Arms</td>\n",
              "      <td>The Brewers Arms, Bower House Tye, Polstead, C...</td>\n",
              "      <td>CO6 5BZ</td>\n",
              "      <td>598743</td>\n",
              "      <td>240655</td>\n",
              "      <td>52.028694</td>\n",
              "      <td>0.895650</td>\n",
              "      <td>Babergh</td>\n",
              "    </tr>\n",
              "    <tr>\n",
              "      <th>4</th>\n",
              "      <td>102</td>\n",
              "      <td>Bristol Arms</td>\n",
              "      <td>Bristol Hill, Shotley, IPSWICH</td>\n",
              "      <td>IP9 1PU</td>\n",
              "      <td>624624</td>\n",
              "      <td>233550</td>\n",
              "      <td>51.955042</td>\n",
              "      <td>1.267642</td>\n",
              "      <td>Babergh</td>\n",
              "    </tr>\n",
              "  </tbody>\n",
              "</table>\n",
              "</div>\n",
              "      <button class=\"colab-df-convert\" onclick=\"convertToInteractive('df-e5b5d5ae-0e72-4c2c-8b70-baf292091ff5')\"\n",
              "              title=\"Convert this dataframe to an interactive table.\"\n",
              "              style=\"display:none;\">\n",
              "        \n",
              "  <svg xmlns=\"http://www.w3.org/2000/svg\" height=\"24px\"viewBox=\"0 0 24 24\"\n",
              "       width=\"24px\">\n",
              "    <path d=\"M0 0h24v24H0V0z\" fill=\"none\"/>\n",
              "    <path d=\"M18.56 5.44l.94 2.06.94-2.06 2.06-.94-2.06-.94-.94-2.06-.94 2.06-2.06.94zm-11 1L8.5 8.5l.94-2.06 2.06-.94-2.06-.94L8.5 2.5l-.94 2.06-2.06.94zm10 10l.94 2.06.94-2.06 2.06-.94-2.06-.94-.94-2.06-.94 2.06-2.06.94z\"/><path d=\"M17.41 7.96l-1.37-1.37c-.4-.4-.92-.59-1.43-.59-.52 0-1.04.2-1.43.59L10.3 9.45l-7.72 7.72c-.78.78-.78 2.05 0 2.83L4 21.41c.39.39.9.59 1.41.59.51 0 1.02-.2 1.41-.59l7.78-7.78 2.81-2.81c.8-.78.8-2.07 0-2.86zM5.41 20L4 18.59l7.72-7.72 1.47 1.35L5.41 20z\"/>\n",
              "  </svg>\n",
              "      </button>\n",
              "      \n",
              "  <style>\n",
              "    .colab-df-container {\n",
              "      display:flex;\n",
              "      flex-wrap:wrap;\n",
              "      gap: 12px;\n",
              "    }\n",
              "\n",
              "    .colab-df-convert {\n",
              "      background-color: #E8F0FE;\n",
              "      border: none;\n",
              "      border-radius: 50%;\n",
              "      cursor: pointer;\n",
              "      display: none;\n",
              "      fill: #1967D2;\n",
              "      height: 32px;\n",
              "      padding: 0 0 0 0;\n",
              "      width: 32px;\n",
              "    }\n",
              "\n",
              "    .colab-df-convert:hover {\n",
              "      background-color: #E2EBFA;\n",
              "      box-shadow: 0px 1px 2px rgba(60, 64, 67, 0.3), 0px 1px 3px 1px rgba(60, 64, 67, 0.15);\n",
              "      fill: #174EA6;\n",
              "    }\n",
              "\n",
              "    [theme=dark] .colab-df-convert {\n",
              "      background-color: #3B4455;\n",
              "      fill: #D2E3FC;\n",
              "    }\n",
              "\n",
              "    [theme=dark] .colab-df-convert:hover {\n",
              "      background-color: #434B5C;\n",
              "      box-shadow: 0px 1px 3px 1px rgba(0, 0, 0, 0.15);\n",
              "      filter: drop-shadow(0px 1px 2px rgba(0, 0, 0, 0.3));\n",
              "      fill: #FFFFFF;\n",
              "    }\n",
              "  </style>\n",
              "\n",
              "      <script>\n",
              "        const buttonEl =\n",
              "          document.querySelector('#df-e5b5d5ae-0e72-4c2c-8b70-baf292091ff5 button.colab-df-convert');\n",
              "        buttonEl.style.display =\n",
              "          google.colab.kernel.accessAllowed ? 'block' : 'none';\n",
              "\n",
              "        async function convertToInteractive(key) {\n",
              "          const element = document.querySelector('#df-e5b5d5ae-0e72-4c2c-8b70-baf292091ff5');\n",
              "          const dataTable =\n",
              "            await google.colab.kernel.invokeFunction('convertToInteractive',\n",
              "                                                     [key], {});\n",
              "          if (!dataTable) return;\n",
              "\n",
              "          const docLinkHtml = 'Like what you see? Visit the ' +\n",
              "            '<a target=\"_blank\" href=https://colab.research.google.com/notebooks/data_table.ipynb>data table notebook</a>'\n",
              "            + ' to learn more about interactive tables.';\n",
              "          element.innerHTML = '';\n",
              "          dataTable['output_type'] = 'display_data';\n",
              "          await google.colab.output.renderOutput(dataTable, element);\n",
              "          const docLink = document.createElement('div');\n",
              "          docLink.innerHTML = docLinkHtml;\n",
              "          element.appendChild(docLink);\n",
              "        }\n",
              "      </script>\n",
              "    </div>\n",
              "  </div>\n",
              "  "
            ]
          },
          "metadata": {},
          "execution_count": 25
        }
      ]
    },
    {
      "cell_type": "code",
      "source": [],
      "metadata": {
        "id": "D-SVM3SclLIa"
      },
      "execution_count": null,
      "outputs": []
    }
  ]
}